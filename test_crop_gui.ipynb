{
 "metadata": {
  "language_info": {
   "codemirror_mode": {
    "name": "ipython",
    "version": 3
   },
   "file_extension": ".py",
   "mimetype": "text/x-python",
   "name": "python",
   "nbconvert_exporter": "python",
   "pygments_lexer": "ipython3",
   "version": "3.9.1-final"
  },
  "orig_nbformat": 2,
  "kernelspec": {
   "name": "python39164bitguicondaa6955a1e32c54c84a44f36f3b5bb82d8",
   "display_name": "Python 3.9.1 64-bit ('gui': conda)",
   "language": "python"
  }
 },
 "nbformat": 4,
 "nbformat_minor": 2,
 "cells": [
  {
   "cell_type": "code",
   "execution_count": 4,
   "metadata": {},
   "outputs": [],
   "source": [
    "import pdb"
   ]
  },
  {
   "cell_type": "code",
   "execution_count": 7,
   "metadata": {},
   "outputs": [],
   "source": [
    "from PIL import ImageTk, Image\n",
    "image = Image.open(\"00016.jpg\")"
   ]
  },
  {
   "cell_type": "code",
   "execution_count": 8,
   "metadata": {},
   "outputs": [
    {
     "output_type": "execute_result",
     "data": {
      "text/plain": [
       "<module 'PIL.Image' from '/home/navneetsajwan/miniconda3/envs/gui/lib/python3.9/site-packages/PIL/Image.py'>"
      ]
     },
     "metadata": {},
     "execution_count": 8
    }
   ],
   "source": [
    "Image"
   ]
  },
  {
   "cell_type": "code",
   "execution_count": 7,
   "metadata": {},
   "outputs": [
    {
     "output_type": "stream",
     "name": "stdout",
     "text": [
      "Button released\n148.0 52.0 539 280\n"
     ]
    }
   ],
   "source": [
    "from PIL import ImageTk, Image\n",
    "# import PIL\n",
    "from tkinter import *    \n",
    "\n",
    "class ExampleApp(Frame):\n",
    "    def __init__(self,master):\n",
    "        Frame.__init__(self,master=None)\n",
    "        self.x = self.y = 0\n",
    "        self.master = master\n",
    "        image = PIL.Image.open(\"00016.jpg\")\n",
    "        w, h  = image.size\n",
    "        self.canvas = Canvas(self, width = w, height = h,  cursor=\"cross\")\n",
    "        # self.button = Button(self, text='Stop', width=25, command=self.on_next_click) \n",
    "        # self.button.pack() \n",
    "        self.canvas.pack()\n",
    "\n",
    "        self.canvas.bind(\"<ButtonPress-1>\", self.on_button_click)\n",
    "        self.canvas.bind(\"<B1-Motion>\", self.on_move_press)\n",
    "        self.canvas.bind(\"<ButtonRelease-1>\", self.on_button_release)\n",
    "        # event functions take event as argument, But we don't have to pass it manually. Instead we bind the function to canvas which in turn passes the event as argument.\n",
    "        self.rect = None\n",
    "\n",
    "        self.start_x = None\n",
    "        self.start_y = None\n",
    "\n",
    "        self.im = PIL.Image.open(\"00016.jpg\")\n",
    "        self.wazil,self.lard=self.im.size\n",
    "        self.canvas.config(scrollregion=(0,0,self.wazil,self.lard))\n",
    "        self.tk_im = PIL.ImageTk.PhotoImage(self.im)\n",
    "        self.canvas.create_image(0,0,anchor=\"nw\",image=self.tk_im)   \n",
    "        # self.master.destroy()\n",
    "\n",
    "    # def on_next_click(self):\n",
    "    #     self.im = PIL.Image.open(\"crop_im.jpg\")\n",
    "    #     self.wazil,self.lard=self.im.size\n",
    "    #     self.canvas.config(scrollregion=(0,0,self.wazil,self.lard))\n",
    "    #     self.tk_im = ImageTk.PhotoImage(self.im)\n",
    "    #     self.canvas.create_image(0,0,anchor=\"nw\",image=self.tk_im)   \n",
    "\n",
    "    def on_button_click(self, event):\n",
    "        # save mouse drag start position\n",
    "        self.start_x = self.canvas.canvasx(event.x)\n",
    "        self.start_y = self.canvas.canvasy(event.y)\n",
    "\n",
    "        # create rectangle if not yet exist\n",
    "        if not self.rect:\n",
    "            self.rect = self.canvas.create_rectangle(self.x, self.y, 1, 1, outline='red')\n",
    "\n",
    "    def on_move_press(self, event):\n",
    "        curX = self.canvas.canvasx(event.x)\n",
    "        curY = self.canvas.canvasy(event.y)\n",
    "\n",
    "        w, h = self.canvas.winfo_width(), self.canvas.winfo_height()\n",
    "        if event.x > 0.9*w:\n",
    "            self.canvas.xview_scroll(1, 'units') \n",
    "        elif event.x < 0.1*w:\n",
    "            self.canvas.xview_scroll(-1, 'units')\n",
    "        if event.y > 0.9*h:\n",
    "            self.canvas.yview_scroll(1, 'units') \n",
    "        elif event.y < 0.1*h:\n",
    "            self.canvas.yview_scroll(-1, 'units')\n",
    "\n",
    "        # expand rectangle as you drag the mouse\n",
    "        # print(self.rect, self.start_x, self.start_y, curX, curY)\n",
    "        self.canvas.coords(self.rect, self.start_x, self.start_y, curX, curY)    \n",
    "\n",
    "    def on_button_release(self, event):\n",
    "        print(\"Button released\")\n",
    "        print(self.start_x, self.start_y,event.x, event.y)\n",
    "        # return [ self.start_x, self.start_y,event.x, event.y]\n",
    "        # crop_im = self.im.crop([ self.start_x, self.start_y,event.x, event.y])\n",
    "        # crop_im.save('crop_im.jpg')\n",
    "        self.destroy()\n",
    "        self.canvas.destroy()\n",
    "        self.destroy()\n",
    "\n",
    "if __name__ == \"__main__\":\n",
    "    root = Tk()\n",
    "    app = ExampleApp(root)\n",
    "    app.pack()\n",
    "    root.mainloop()"
   ]
  },
  {
   "cell_type": "code",
   "execution_count": null,
   "metadata": {},
   "outputs": [],
   "source": [
    "#my problem right now is to make the gui in a way that I can move to next image as soon as I hit next"
   ]
  },
  {
   "cell_type": "code",
   "execution_count": null,
   "metadata": {},
   "outputs": [],
   "source": []
  }
 ]
}