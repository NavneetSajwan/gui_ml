{
 "metadata": {
  "language_info": {
   "codemirror_mode": {
    "name": "ipython",
    "version": 3
   },
   "file_extension": ".py",
   "mimetype": "text/x-python",
   "name": "python",
   "nbconvert_exporter": "python",
   "pygments_lexer": "ipython3",
   "version": "3.9.1-final"
  },
  "orig_nbformat": 2,
  "kernelspec": {
   "name": "python39164bitguicondaa6955a1e32c54c84a44f36f3b5bb82d8",
   "display_name": "Python 3.9.1 64-bit ('gui': conda)",
   "language": "python"
  }
 },
 "nbformat": 4,
 "nbformat_minor": 2,
 "cells": [
  {
   "cell_type": "code",
   "execution_count": null,
   "metadata": {},
   "outputs": [],
   "source": [
    "import tkinter"
   ]
  },
  {
   "cell_type": "code",
   "execution_count": null,
   "metadata": {},
   "outputs": [],
   "source": [
    "# help(Button)"
   ]
  },
  {
   "cell_type": "code",
   "execution_count": null,
   "metadata": {},
   "outputs": [],
   "source": [
    "m = tkinter.Tk(className = 'Window_name')\n",
    "w=Button(master = m)\n",
    "m.mainloop()"
   ]
  },
  {
   "source": [
    "## **Button**"
   ],
   "cell_type": "markdown",
   "metadata": {}
  },
  {
   "cell_type": "code",
   "execution_count": null,
   "metadata": {},
   "outputs": [],
   "source": [
    "import tkinter as tk \n",
    "r = tk.Tk() \n",
    "r.title('Counting Seconds') \n",
    "button = Button(r, text='Stop', width=25, command=r.destroy) \n",
    "button.pack() \n",
    "r.mainloop() "
   ]
  },
  {
   "source": [
    "## **Canvas**"
   ],
   "cell_type": "markdown",
   "metadata": {}
  },
  {
   "cell_type": "code",
   "execution_count": null,
   "metadata": {},
   "outputs": [],
   "source": [
    "from tkinter import *\n",
    "master = Tk() \n",
    "w = Canvas(master, width=40, height=60) \n",
    "w.pack() \n",
    "canvas_height=20\n",
    "canvas_width=200\n",
    "y = int(canvas_height / 2) \n",
    "w.create_line(0, y, canvas_width, y ) \n",
    "mainloop() "
   ]
  },
  {
   "source": [
    "## **Check Button**"
   ],
   "cell_type": "markdown",
   "metadata": {}
  },
  {
   "cell_type": "code",
   "execution_count": null,
   "metadata": {},
   "outputs": [],
   "source": [
    "from tkinter import *\n",
    "master = Tk() \n",
    "var1 = IntVar() \n",
    "Checkbutton(master, text='male', variable=var1).grid(row=0, sticky=W) \n",
    "var2 = IntVar() \n",
    "Checkbutton(master, text='female', variable=var2).grid(row=1, sticky=W) \n",
    "mainloop()"
   ]
  },
  {
   "source": [
    "## **Entry**"
   ],
   "cell_type": "markdown",
   "metadata": {}
  },
  {
   "cell_type": "code",
   "execution_count": null,
   "metadata": {},
   "outputs": [],
   "source": [
    "from tkinter import *\n",
    "master = Tk() \n",
    "Label(master, text='First Name').grid(row=0) \n",
    "Label(master, text='Last Name').grid(row=1) \n",
    "e1 = Entry(master) \n",
    "e2 = Entry(master) \n",
    "e1.grid(row=0, column=1) \n",
    "e2.grid(row=1, column=1) \n",
    "mainloop() "
   ]
  },
  {
   "source": [
    "## **Frame**"
   ],
   "cell_type": "markdown",
   "metadata": {}
  },
  {
   "cell_type": "code",
   "execution_count": null,
   "metadata": {},
   "outputs": [],
   "source": [
    "from tkinter import *\n",
    "  \n",
    "root = Tk() \n",
    "frame = Frame(root) \n",
    "frame.pack() \n",
    "bottomframe = Frame(root) \n",
    "bottomframe.pack( side = BOTTOM ) \n",
    "redbutton = Button(frame, text = 'Red', fg ='red') \n",
    "redbutton.pack( side = LEFT) \n",
    "greenbutton = Button(frame, text = 'Brown', fg='brown') \n",
    "greenbutton.pack( side = LEFT ) \n",
    "bluebutton = Button(frame, text ='Blue', fg ='blue') \n",
    "bluebutton.pack( side = LEFT ) \n",
    "blackbutton = Button(bottomframe, text ='Black', fg ='black') \n",
    "blackbutton.pack( side = BOTTOM) \n",
    "root.mainloop() "
   ]
  },
  {
   "cell_type": "code",
   "execution_count": null,
   "metadata": {},
   "outputs": [],
   "source": [
    "from tkinter import *\n",
    "root = Tk() \n",
    "w = Label(root, text='GeeksForGeeks.org!') \n",
    "w.pack() \n",
    "root.mainloop() "
   ]
  },
  {
   "cell_type": "code",
   "execution_count": null,
   "metadata": {},
   "outputs": [],
   "source": [
    "from tkinter import *\n",
    "  \n",
    "top = Tk() \n",
    "Lb = Listbox(top) \n",
    "Lb.insert(1, 'Python') \n",
    "Lb.insert(2, 'Java') \n",
    "Lb.insert(3, 'C++') \n",
    "Lb.insert(4, 'Any other') \n",
    "Lb.pack() \n",
    "top.mainloop() "
   ]
  },
  {
   "cell_type": "code",
   "execution_count": null,
   "metadata": {},
   "outputs": [],
   "source": [
    "from tkinter import *\n",
    "  \n",
    "top = Tk() \n",
    "mb =  Menubutton ( top, text = 'GFG', relief = RAISED) \n",
    "mb.grid() \n",
    "mb.menu  =  Menu ( mb, tearoff = 0 ) \n",
    "mb['menu']  =  mb.menu \n",
    "cVar  = IntVar() \n",
    "aVar = IntVar() \n",
    "mb.menu.add_checkbutton ( label ='Contact', variable = cVar ) \n",
    "mb.menu.add_checkbutton ( label = 'About', variable = aVar ) \n",
    "mb.pack() \n",
    "top.mainloop() "
   ]
  },
  {
   "cell_type": "code",
   "execution_count": null,
   "metadata": {},
   "outputs": [],
   "source": [
    "from tkinter import *\n",
    "      \n",
    "root = Tk() \n",
    "menu = Menu(root) \n",
    "root.config(menu=menu) \n",
    "filemenu = Menu(menu) \n",
    "menu.add_cascade(label='File', menu=filemenu) \n",
    "filemenu.add_command(label='New') \n",
    "filemenu.add_command(label='Open...') \n",
    "filemenu.add_separator() \n",
    "filemenu.add_command(label='Exit', command=root.quit) \n",
    "helpmenu = Menu(menu) \n",
    "menu.add_cascade(label='Help', menu=helpmenu) \n",
    "helpmenu.add_command(label='About') \n",
    "mainloop() "
   ]
  },
  {
   "cell_type": "code",
   "execution_count": null,
   "metadata": {},
   "outputs": [],
   "source": [
    "from tkinter import *\n",
    "main = Tk() \n",
    "ourMessage ='This is our Message'\n",
    "messageVar = Message(main, text = ourMessage) \n",
    "messageVar.config(bg='lightgreen') \n",
    "messageVar.pack( ) \n",
    "main.mainloop( ) "
   ]
  },
  {
   "cell_type": "code",
   "execution_count": null,
   "metadata": {},
   "outputs": [],
   "source": [
    "from tkinter import *\n",
    "root = Tk() \n",
    "v = IntVar() \n",
    "Radiobutton(root, text='GfG', variable=v, value=1).pack(anchor=W) \n",
    "Radiobutton(root, text='MIT', variable=v, value=2).pack(anchor=W) \n",
    "mainloop() "
   ]
  },
  {
   "cell_type": "code",
   "execution_count": null,
   "metadata": {},
   "outputs": [],
   "source": [
    "from tkinter import *\n",
    "master = Tk() \n",
    "w = Scale(master, from_=0, to=42) \n",
    "w.pack() \n",
    "w = Scale(master, from_=0, to=200, orient=HORIZONTAL) \n",
    "w.pack() \n",
    "mainloop() "
   ]
  },
  {
   "cell_type": "code",
   "execution_count": null,
   "metadata": {},
   "outputs": [],
   "source": [
    "from tkinter import *\n",
    "root = Tk() \n",
    "scrollbar = Scrollbar(root) \n",
    "scrollbar.pack( side = RIGHT, fill = Y ) \n",
    "mylist = Listbox(root, yscrollcommand = scrollbar.set ) \n",
    "for line in range(100): \n",
    "   mylist.insert(END, 'This is line number' + str(line)) \n",
    "mylist.pack( side = LEFT, fill = BOTH ) \n",
    "scrollbar.config( command = mylist.yview ) \n",
    "mainloop() "
   ]
  },
  {
   "cell_type": "code",
   "execution_count": null,
   "metadata": {},
   "outputs": [],
   "source": [
    "from tkinter import *\n",
    "root = Tk() \n",
    "T = Text(root, height=2, width=30) \n",
    "T.pack() \n",
    "T.insert(END, 'GeeksforGeeks\\nBEST WEBSITE\\n') \n",
    "mainloop() "
   ]
  },
  {
   "cell_type": "code",
   "execution_count": null,
   "metadata": {},
   "outputs": [],
   "source": [
    "from tkinter import *\n",
    "root = Tk() \n",
    "root.title('GfG') \n",
    "top = Toplevel() \n",
    "top.title('Python') \n",
    "top.mainloop() "
   ]
  },
  {
   "cell_type": "code",
   "execution_count": null,
   "metadata": {},
   "outputs": [],
   "source": [
    "from tkinter import *\n",
    "master = Tk() \n",
    "w = Spinbox(master, from_ = 0, to = 10) \n",
    "w.pack() \n",
    "mainloop() "
   ]
  },
  {
   "cell_type": "code",
   "execution_count": null,
   "metadata": {},
   "outputs": [],
   "source": [
    "from tkinter import *\n",
    "m1 = PanedWindow() \n",
    "m1.pack(fill = BOTH, expand = 1) \n",
    "left = Entry(m1, bd = 5) \n",
    "m1.add(left) \n",
    "m2 = PanedWindow(m1, orient = VERTICAL) \n",
    "m1.add(m2) \n",
    "top = Scale( m2, orient = HORIZONTAL) \n",
    "m2.add(top) \n",
    "mainloop() "
   ]
  },
  {
   "cell_type": "code",
   "execution_count": null,
   "metadata": {},
   "outputs": [],
   "source": [
    "from tkinter import *  \n",
    "from PIL import ImageTk,Image  \n",
    "\n",
    "root = Tk()\n",
    "\n",
    "img = Image.open(\"00016.jpg\").convert(\"RGB\")\n",
    "\n",
    "w, h = img.size\n",
    "\n",
    "# left = w/4\n",
    "# right = 3*w/4\n",
    "# upper = h/4\n",
    "# lower = 3*h/4\n",
    "\n",
    "# img2 = img.crop([ left, upper, right, lower])\n",
    "image = ImageTk.PhotoImage(img)\n",
    "\n",
    "label = Label(root, image = image)\n",
    "label.pack()\n",
    "\n",
    "root.mainloop()"
   ]
  },
  {
   "cell_type": "code",
   "execution_count": null,
   "metadata": {},
   "outputs": [],
   "source": [
    "from PIL import ImageTk,Image\n",
    "image  = Image.open(\"00016.jpg\")\n",
    "image.size\n"
   ]
  },
  {
   "cell_type": "code",
   "execution_count": null,
   "metadata": {},
   "outputs": [],
   "source": [
    "from PIL import ImageTk, Image\n",
    "from tkinter import *    \n",
    "\n",
    "class ExampleApp(Frame):\n",
    "    def __init__(self,master):\n",
    "        Frame.__init__(self,master=None)\n",
    "        self.x = self.y = 0\n",
    "        self.master = master\n",
    "        image = Image.open(\"00016.jpg\")\n",
    "        w, h  = image.size\n",
    "        self.canvas = Canvas(self, width = w, height = h,  cursor=\"cross\")\n",
    "        self.button = Button(self, text='Stop', width=25, command=self.on_next_click) \n",
    "        self.button.pack() \n",
    "        # self.sbarv=Scrollbar(self,orient=VERTICAL)\n",
    "        # self.sbarh=Scrollbar(self,orient=HORIZONTAL)\n",
    "        # self.sbarv.config(command=self.canvas.yview)\n",
    "        # self.sbarh.config(command=self.canvas.xview)\n",
    "\n",
    "        # self.canvas.config(yscrollcommand=self.sbarv.set)\n",
    "        # self.canvas.config(xscrollcommand=self.sbarh.set)\n",
    "        self.canvas.pack()\n",
    "        # self.canvas.grid(row=0,column=0,sticky=N+S+E+W)\n",
    "        # self.sbarv.grid(row=0,column=1,stick=N+S)\n",
    "        # self.sbarh.grid(row=1,column=0,sticky=E+W)\n",
    "\n",
    "        self.canvas.bind(\"<ButtonPress-1>\", self.on_button_click)\n",
    "        self.canvas.bind(\"<B1-Motion>\", self.on_move_press)\n",
    "        self.canvas.bind(\"<ButtonRelease-1>\", self.on_button_release)\n",
    "        # event functions take event as argument, But we don't have to pass it manually. Instead we bind the function to canvas which in turn passes the event as argument.\n",
    "        self.rect = None\n",
    "\n",
    "        self.start_x = None\n",
    "        self.start_y = None\n",
    "\n",
    "        self.im = Image.open(\"00016.jpg\")\n",
    "        self.wazil,self.lard=self.im.size\n",
    "        self.canvas.config(scrollregion=(0,0,self.wazil,self.lard))\n",
    "        self.tk_im = ImageTk.PhotoImage(self.im)\n",
    "        self.canvas.create_image(0,0,anchor=\"nw\",image=self.tk_im)   \n",
    "        # self.master.destroy()\n",
    "\n",
    "    def on_next_click(self):\n",
    "        self.im = Image.open(\"crop_im.jpg\")\n",
    "        self.wazil,self.lard=self.im.size\n",
    "        self.canvas.config(scrollregion=(0,0,self.wazil,self.lard))\n",
    "        self.tk_im = ImageTk.PhotoImage(self.im)\n",
    "        self.canvas.create_image(0,0,anchor=\"nw\",image=self.tk_im)   \n",
    "\n",
    "    def on_button_click(self, event):\n",
    "        # save mouse drag start position\n",
    "        self.start_x = self.canvas.canvasx(event.x)\n",
    "        self.start_y = self.canvas.canvasy(event.y)\n",
    "\n",
    "        # create rectangle if not yet exist\n",
    "        if not self.rect:\n",
    "            self.rect = self.canvas.create_rectangle(self.x, self.y, 1, 1, outline='red')\n",
    "\n",
    "    def on_move_press(self, event):\n",
    "        curX = self.canvas.canvasx(event.x)\n",
    "        curY = self.canvas.canvasy(event.y)\n",
    "\n",
    "        w, h = self.canvas.winfo_width(), self.canvas.winfo_height()\n",
    "        if event.x > 0.9*w:\n",
    "            self.canvas.xview_scroll(1, 'units') \n",
    "        elif event.x < 0.1*w:\n",
    "            self.canvas.xview_scroll(-1, 'units')\n",
    "        if event.y > 0.9*h:\n",
    "            self.canvas.yview_scroll(1, 'units') \n",
    "        elif event.y < 0.1*h:\n",
    "            self.canvas.yview_scroll(-1, 'units')\n",
    "\n",
    "        # expand rectangle as you drag the mouse\n",
    "        # print(self.rect, self.start_x, self.start_y, curX, curY)\n",
    "        self.canvas.coords(self.rect, self.start_x, self.start_y, curX, curY)    \n",
    "\n",
    "    def on_button_release(self, event):\n",
    "        print(\"Button released\")\n",
    "        print(self.start_x, self.start_y,event.x, event.y)\n",
    "        # return [ self.start_x, self.start_y,event.x, event.y]\n",
    "        crop_im = self.im.crop([ self.start_x, self.start_y,event.x, event.y])\n",
    "        crop_im.save('crop_im.jpg')\n",
    "\n",
    "if __name__ == \"__main__\":\n",
    "    root = Tk()\n",
    "    app = ExampleApp(root)\n",
    "    app.pack()\n",
    "    root.mainloop()"
   ]
  },
  {
   "cell_type": "code",
   "execution_count": null,
   "metadata": {},
   "outputs": [],
   "source": [
    "im = PIL.Image.open(\"00016.jpg\")\n",
    "w, h=im.size\n",
    "w.config(scrollregion=(0,0,w,h))\n",
    "tk_im = PIL.ImageTk.PhotoImage(self.im)\n",
    "w.create_image(0,0,anchor=\"nw\",image=self.tk_im)  "
   ]
  },
  {
   "cell_type": "code",
   "execution_count": 35,
   "metadata": {},
   "outputs": [],
   "source": [
    "from tkinter import *\n",
    "# from PIL import ImageTk, Image\n",
    "import PIL\n",
    "root = Tk() \n",
    "\n",
    "# Create Title \n",
    "root.title( \"BBox App \") \n",
    "\n",
    "# specify size \n",
    "\n",
    "\n",
    "# define function when \n",
    "# mouse double click is enabled \n",
    "flag  = True\n",
    "x_init, y_init = None, None\n",
    "prevX, prevY = 0, 0\n",
    "myrect = None\n",
    "def display( event ): \n",
    "\tglobal flag, x_init, y_init, prevX, prevY, myrect\n",
    "\tif flag:\n",
    "\t\tprint(\"inited x, y\")\n",
    "\t\tx_init = w.canvasx(event.x)\n",
    "\t\ty_init = w.canvasy(event.y)\n",
    "\t\tflag = False\n",
    "\tcurX = w.canvasx(event.x)\n",
    "\tcurY = w.canvasy(event.y)\n",
    "\tw.delete(myrect)\n",
    "\tmyrect = w.create_rectangle(x_init, y_init, curX, curY, outline='red')#x, y, w, h\n",
    "\tprevX, prevY = curX, curY\n",
    "def on_release(event):\n",
    "\tglobal flag, x_init, y_init, prevX, prevY, myrect\n",
    "\n",
    "im = PIL.Image.open(\"00016.jpg\")\n",
    "width, height = im.size\n",
    "root.geometry(\"{}x{}\".format(width, height)) \n",
    "w = Canvas(root, width= width, height = height)\n",
    "next = Button(root, text='Next', width=25)\n",
    "crop = Button(root, text='Crop', width=25)\n",
    "crop.pack()\n",
    "next.pack()\n",
    "# w.config(scrollregion=(0,0,w,h))\n",
    "tk_im = PIL.ImageTk.PhotoImage(im, master = w)\n",
    "w.create_image(0,0,anchor=\"nw\",image=tk_im)  \n",
    "\n",
    "w.bind( \"<B1-Motion>\", display ) \n",
    "# create label. \n",
    "l = Label( root, text = \"Double Click and Drag to draw.\" ) \n",
    "l.pack() \n",
    "w.pack() \n",
    "\n",
    "mainloop() \n"
   ]
  },
  {
   "cell_type": "code",
   "execution_count": null,
   "metadata": {},
   "outputs": [],
   "source": [
    "from PIL import Image, ImageTk"
   ]
  },
  {
   "cell_type": "code",
   "execution_count": null,
   "metadata": {},
   "outputs": [],
   "source": [
    "from tkinter import *\n",
    "import PIL\n",
    "im = PIL.Image.open(\"00016.jpg\")\n",
    "root = Tk() \n",
    "w, h = im.size\n",
    "canvas = Canvas(root, width = w, height = h)\n",
    "tk_im = PIL.ImageTk.PhotoImage(im, master = canvas)\n",
    "canvas.create_image(0,0,anchor=\"nw\",image=tk_im)\n",
    "canvas.pack()\n",
    "mainloop()"
   ]
  },
  {
   "cell_type": "code",
   "execution_count": null,
   "metadata": {},
   "outputs": [],
   "source": [
    "w, h"
   ]
  },
  {
   "cell_type": "code",
   "execution_count": null,
   "metadata": {},
   "outputs": [],
   "source": [
    "from tkinter import *\n",
    "import pdb\n",
    "\n",
    "root = Tk() \n",
    "\n",
    "# Create Title \n",
    "root.title( \"Paint App \") \n",
    "\n",
    "# specify size \n",
    "root.geometry(\"500x350\") \n",
    "\n",
    "w = Canvas(root, width = 400, height = 250) \n",
    "crop = Cropper(w)\n",
    "# call function when double \n",
    "# click is enabled. \n",
    "w.bind( \"<ButtonPress-1>\", crop.on_mouse_click ) \n",
    "w.bind( \"<B1-Motion>\", crop.display ) \n",
    "\n",
    "# create label. \n",
    "l = Label( root, text = \"Double Click and Drag to draw.\" ) \n",
    "l.pack() \n",
    "w.pack() \n",
    "\n",
    "mainloop() "
   ]
  },
  {
   "cell_type": "code",
   "execution_count": null,
   "metadata": {},
   "outputs": [],
   "source": [
    "%debug"
   ]
  }
 ]
}