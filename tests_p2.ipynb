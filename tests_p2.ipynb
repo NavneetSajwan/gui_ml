{
 "metadata": {
  "language_info": {
   "codemirror_mode": {
    "name": "ipython",
    "version": 3
   },
   "file_extension": ".py",
   "mimetype": "text/x-python",
   "name": "python",
   "nbconvert_exporter": "python",
   "pygments_lexer": "ipython3",
   "version": "3.9.1-final"
  },
  "orig_nbformat": 2,
  "kernelspec": {
   "name": "python39164bitguicondaa6955a1e32c54c84a44f36f3b5bb82d8",
   "display_name": "Python 3.9.1 64-bit ('gui': conda)",
   "language": "python"
  }
 },
 "nbformat": 4,
 "nbformat_minor": 2,
 "cells": [
  {
   "cell_type": "code",
   "execution_count": 1,
   "metadata": {},
   "outputs": [],
   "source": [
    "from tkinter import *\n",
    "import PIL\n",
    "from PIL import Image, ImageTk\n",
    "from functools import partial "
   ]
  },
  {
   "cell_type": "code",
   "execution_count": 14,
   "metadata": {},
   "outputs": [],
   "source": [
    "def display( event ): \n",
    "\tglobal flag, x_init, y_init, prevX, prevY, myrect, curX, curY, coords\n",
    "\tif flag:\n",
    "\t\tprint(\"inited x, y\")\n",
    "\t\tx_init = w.canvasx(event.x)\n",
    "\t\ty_init = w.canvasy(event.y)\n",
    "\t\tflag = False\n",
    "\tcurX = w.canvasx(event.x)\n",
    "\tcurY = w.canvasy(event.y)\n",
    "\tw.delete(myrect)\n",
    "\tmyrect = w.create_rectangle(x_init, y_init, curX, curY, outline='red')#x, y, w, h\n",
    "\tcoords = [x_init, y_init, curX, curY]\n",
    "\tprevX, prevY = curX, curY\n",
    "\n",
    "\n",
    "# def on_release(event):\n",
    "# \tglobal flag, x_init, y_init, prevX, prevY, myrect\n",
    "\n",
    "def do_crop(im, inp_name,  dst):\n",
    "\tglobal coords\n",
    "\tprint(coords)\n",
    "\tcrop_im = im.crop(coords)\n",
    "\tout_name = inp_name.split('.')[0]+ \"_crop.jpg\"\n",
    "\tout_path = os.path.join(dst, out_name)\n",
    "\tprint(out_path)\n",
    "\tcrop_im.save(out_path)\n",
    "\n"
   ]
  },
  {
   "cell_type": "code",
   "execution_count": 12,
   "metadata": {},
   "outputs": [
    {
     "output_type": "stream",
     "name": "stdout",
     "text": [
      "inited x, y\n",
      "[None, None, 0, 0]\n",
      "Exception in Tkinter callback\n",
      "Traceback (most recent call last):\n",
      "  File \"/home/navneetsajwan/miniconda3/envs/gui/lib/python3.9/tkinter/__init__.py\", line 1884, in __call__\n",
      "    return self.func(*args)\n",
      "  File \"<ipython-input-10-ed99fe83f6fd>\", line 21, in do_crop\n",
      "    crop_im = im.crop(coords)\n",
      "  File \"/home/navneetsajwan/miniconda3/envs/gui/lib/python3.9/site-packages/PIL/Image.py\", line 1139, in crop\n",
      "    return self._new(self._crop(self.im, box))\n",
      "  File \"/home/navneetsajwan/miniconda3/envs/gui/lib/python3.9/site-packages/PIL/Image.py\", line 1153, in _crop\n",
      "    x0, y0, x1, y1 = map(int, map(round, box))\n",
      "TypeError: type NoneType doesn't define __round__ method\n"
     ]
    }
   ],
   "source": [
    "root = Tk() \n",
    "root.title( \"BBox App \") \n",
    "\n",
    "flag  = True\n",
    "x_init, y_init = None, None\n",
    "prevX, prevY, curX, curY = 0, 0, 0, 0\n",
    "coords = []\n",
    "myrect = None\n",
    "imgname = \"00016.jpg\"\n",
    "dst = \"crops\"\n",
    "im = PIL.Image.open(\"00016.jpg\")\n",
    "width, height = im.size\n",
    "\n",
    "root.geometry(\"{}x{}\".format(width, height)) \n",
    "\n",
    "w = Canvas(root, width= width, height = height)\n",
    "\n",
    "# print(coords)\n",
    "partial_crop = partial(do_crop, im, imgname, dst)\n",
    "\n",
    "next = Button(root, text='Next', width=25)\n",
    "crop = Button(root, text='Crop', width=25, command = partial_crop)\n",
    "crop.pack()\n",
    "next.pack()\n",
    "\n",
    "tk_im = PIL.ImageTk.PhotoImage(im, master = w)\n",
    "w.create_image(0,0,anchor=\"nw\",image=tk_im)  \n",
    "\n",
    "w.bind( \"<B1-Motion>\", display ) \n",
    "# create label. \n",
    "l = Label( root, text = \"Double Click and Drag to draw.\" ) \n",
    "l.pack() \n",
    "w.pack() \n",
    "# print(\"are we here?\")\n",
    "mainloop() "
   ]
  },
  {
   "cell_type": "code",
   "execution_count": null,
   "metadata": {},
   "outputs": [],
   "source": [
    "#I need to implement the crop function first."
   ]
  }
 ]
}