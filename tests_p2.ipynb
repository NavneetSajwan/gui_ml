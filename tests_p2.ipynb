{
 "metadata": {
  "language_info": {
   "codemirror_mode": {
    "name": "ipython",
    "version": 3
   },
   "file_extension": ".py",
   "mimetype": "text/x-python",
   "name": "python",
   "nbconvert_exporter": "python",
   "pygments_lexer": "ipython3",
   "version": "3.9.1-final"
  },
  "orig_nbformat": 2,
  "kernelspec": {
   "name": "python39164bitguicondaa6955a1e32c54c84a44f36f3b5bb82d8",
   "display_name": "Python 3.9.1 64-bit ('gui': conda)",
   "language": "python"
  }
 },
 "nbformat": 4,
 "nbformat_minor": 2,
 "cells": [
  {
   "cell_type": "code",
   "execution_count": 2,
   "metadata": {},
   "outputs": [],
   "source": [
    "from tkinter import *\n",
    "import PIL\n",
    "from PIL import Image, ImageTk\n",
    "from functools import partial \n",
    "from pathlib import Path"
   ]
  },
  {
   "cell_type": "code",
   "execution_count": 137,
   "metadata": {},
   "outputs": [
    {
     "output_type": "stream",
     "name": "stdout",
     "text": [
      "inited x, y\n",
      "[163.0, 66.0, 460.0, 170.0]\n",
      "crops/00016_crop.jpg\n"
     ]
    }
   ],
   "source": [
    "root = Tk() \n",
    "root.title( \"BBox App \") \n",
    "fname_list = os.listdir(\"src\")\n",
    "# fpath_list = [os.path.join(\"src\", item)for item in fname_list]\n",
    "flag  = True\n",
    "x_init, y_init = None, None\n",
    "prevX, prevY, curX, curY, count = 0, 0, 0, 0, 0\n",
    "coords = []\n",
    "myrect = None\n",
    "imgname = \"00016.jpg\"\n",
    "dst = \"crops\"\n",
    "im = PIL.Image.open(imgname)\n",
    "width, height = im.size\n",
    "\n",
    "root.geometry(\"{}x{}\".format(width, height)) \n",
    "\n",
    "w = Canvas(root, width= width, height = height)\n",
    "\n",
    "# print(coords)\n",
    "# partial_crop = partial(do_crop, im, imgname, dst)\n",
    "\n",
    "next = Button(root, text='Next', width=25, command = next_image)\n",
    "crop = Button(root, text='Crop', width=25, command = do_crop)\n",
    "crop.pack()\n",
    "next.pack()\n",
    "\n",
    "tk_im = PIL.ImageTk.PhotoImage(im, master = w)\n",
    "w.create_image(0,0,anchor=\"nw\",image=tk_im)  \n",
    "\n",
    "w.bind( \"<B1-Motion>\", display ) \n",
    "# create label. \n",
    "l = Label( root, text = \"Double Click and Drag to draw.\" ) \n",
    "l.pack() \n",
    "w.pack() \n",
    "# print(\"are we here?\")\n",
    "mainloop() "
   ]
  },
  {
   "cell_type": "code",
   "execution_count": 4,
   "metadata": {},
   "outputs": [],
   "source": [
    "from tkinter import *\n",
    "import PIL\n",
    "from PIL import Image, ImageTk\n",
    "from functools import partial \n",
    "from pathlib import Path"
   ]
  },
  {
   "cell_type": "code",
   "execution_count": 7,
   "metadata": {},
   "outputs": [],
   "source": [
    "def display( event ): \n",
    "\tglobal flag, x_init, y_init, prevX, prevY, myrect, curX, curY, coords, click\n",
    "\tif click:\n",
    "\t\tprint(\"inited x, y\")\n",
    "\t\tx_init = w.canvasx(event.x)\n",
    "\t\ty_init = w.canvasy(event.y)\n",
    "\t\tclick = False\n",
    "\t# release = \n",
    "\t# if release:\n",
    "\t# \tclick = True\n",
    "\tcurX = w.canvasx(event.x)\n",
    "\tcurY = w.canvasy(event.y)\n",
    "\tw.delete(myrect)\n",
    "\tmyrect = w.create_rectangle(x_init, y_init, curX, curY, outline='red')#x, y, w, h\n",
    "\tcoords = [x_init, y_init, curX, curY]\n",
    "\tprevX, prevY = curX, curY\n",
    "\n",
    "\n",
    "# def on_release(event):\n",
    "# \tglobal flag, x_init, y_init, prevX, prevY, myrect\n",
    "\n",
    "def do_crop():\n",
    "\tglobal coords, imgname, dst, root\n",
    "\tprint(coords)\n",
    "\tcrop_im = im.crop(coords)\n",
    "\tout_name = imgname.split('.')[0]+ \"_crop.jpg\"\n",
    "\tout_path = os.path.join(dst, out_name)\n",
    "\tprint(out_path)\n",
    "\tcrop_im.save(out_path)\n",
    "\t# root.destroy()\n",
    "\t\n",
    "def next_image():\n",
    "\tglobal root\n",
    "\troot.destroy()\n",
    "\n",
    "def do_stop():\n",
    "\tglobal is_break\n",
    "\tis_break = True\n",
    "\troot.destroy()\n",
    "\n"
   ]
  },
  {
   "cell_type": "code",
   "execution_count": 11,
   "metadata": {},
   "outputs": [
    {
     "output_type": "stream",
     "name": "stdout",
     "text": [
      "inited x, y\n",
      "[221.0, 100.0, 478.0, 204.0]\n",
      "crops/00002_crop.jpg\n",
      "inited x, y\n",
      "[265.0, 148.0, 487.0, 212.0]\n",
      "crops/00004_crop.jpg\n",
      "inited x, y\n",
      "[247.0, 91.0, 561.0, 198.0]\n",
      "crops/00009_crop.jpg\n",
      "inited x, y\n",
      "[132.0, 112.0, 367.0, 165.0]\n",
      "crops/00011_crop.jpg\n"
     ]
    }
   ],
   "source": [
    "#I need to implement the crop function first.\n",
    "fname_list = os.listdir(\"src\")\n",
    "count = 0\n",
    "x_init, y_init = None, None\n",
    "prevX, prevY, curX, curY, count = 0, 0, 0, 0, 0\n",
    "coords = []\n",
    "myrect = None\n",
    "dst = \"crops\"\n",
    "is_break = False\n",
    "for item in fname_list:\n",
    "    if is_break: break\n",
    "    click  = True\n",
    "    root = Tk() \n",
    "    root.title( \"BBox App \") \n",
    "    imgname = item\n",
    "    fpath = os.path.join(\"src\", item)\n",
    "    im = PIL.Image.open(fpath)\n",
    "    im.thumbnail((750, 500), Image.ANTIALIAS)\n",
    "    width, height = im.size\n",
    "\n",
    "    root.geometry(\"{}x{}\".format(width, height+25)) \n",
    "\n",
    "    w = Canvas(root, width= width, height = height)\n",
    "    top = Frame(root)\n",
    "    bottom = Frame(root)\n",
    "    top.pack(side=TOP)\n",
    "    bottom.pack(side=BOTTOM)\n",
    "    crop = Button(root, text='Crop', width=25, command = do_crop)\n",
    "    crop.pack(in_= top, side = LEFT)\n",
    "    next = Button(root, text='Next', width=25, command = next_image)\n",
    "    next.pack(in_= top,side = LEFT)\n",
    "    stop = Button(root, text='Stop', width=25, command = do_stop)\n",
    "    stop.pack(in_= top,side = LEFT)\n",
    "    tk_im = PIL.ImageTk.PhotoImage(im, master = w)\n",
    "    w.create_image(0,0,anchor=\"nw\",image=tk_im)  \n",
    "\n",
    "    w.bind( \"<B1-Motion>\", display ) \n",
    "    # create label. \n",
    "    l = Label( root, text = \"Double Click and Drag to draw.\" ) \n",
    "    l.pack() \n",
    "    w.pack(side = BOTTOM) \n",
    "    # print(\"are we here?\")\n",
    "    mainloop() "
   ]
  }
 ]
}