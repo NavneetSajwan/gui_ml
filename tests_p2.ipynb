{
 "metadata": {
  "language_info": {
   "codemirror_mode": {
    "name": "ipython",
    "version": 3
   },
   "file_extension": ".py",
   "mimetype": "text/x-python",
   "name": "python",
   "nbconvert_exporter": "python",
   "pygments_lexer": "ipython3",
   "version": "3.9.1-final"
  },
  "orig_nbformat": 2,
  "kernelspec": {
   "name": "python39164bitguicondaa6955a1e32c54c84a44f36f3b5bb82d8",
   "display_name": "Python 3.9.1 64-bit ('gui': conda)",
   "language": "python"
  }
 },
 "nbformat": 4,
 "nbformat_minor": 2,
 "cells": [
  {
   "cell_type": "code",
   "execution_count": 2,
   "metadata": {},
   "outputs": [],
   "source": [
    "from tkinter import *\n",
    "import PIL\n",
    "from PIL import Image, ImageTk\n",
    "from functools import partial \n",
    "from pathlib import Path"
   ]
  },
  {
   "cell_type": "code",
   "execution_count": 137,
   "metadata": {},
   "outputs": [
    {
     "output_type": "stream",
     "name": "stdout",
     "text": [
      "inited x, y\n",
      "[163.0, 66.0, 460.0, 170.0]\n",
      "crops/00016_crop.jpg\n"
     ]
    }
   ],
   "source": [
    "root = Tk() \n",
    "root.title( \"BBox App \") \n",
    "fname_list = os.listdir(\"src\")\n",
    "# fpath_list = [os.path.join(\"src\", item)for item in fname_list]\n",
    "flag  = True\n",
    "x_init, y_init = None, None\n",
    "prevX, prevY, curX, curY, count = 0, 0, 0, 0, 0\n",
    "coords = []\n",
    "myrect = None\n",
    "imgname = \"00016.jpg\"\n",
    "dst = \"crops\"\n",
    "im = PIL.Image.open(imgname)\n",
    "width, height = im.size\n",
    "\n",
    "root.geometry(\"{}x{}\".format(width, height)) \n",
    "\n",
    "w = Canvas(root, width= width, height = height)\n",
    "\n",
    "# print(coords)\n",
    "# partial_crop = partial(do_crop, im, imgname, dst)\n",
    "\n",
    "next = Button(root, text='Next', width=25, command = next_image)\n",
    "crop = Button(root, text='Crop', width=25, command = do_crop)\n",
    "crop.pack()\n",
    "next.pack()\n",
    "\n",
    "tk_im = PIL.ImageTk.PhotoImage(im, master = w)\n",
    "w.create_image(0,0,anchor=\"nw\",image=tk_im)  \n",
    "\n",
    "w.bind( \"<B1-Motion>\", display ) \n",
    "# create label. \n",
    "l = Label( root, text = \"Double Click and Drag to draw.\" ) \n",
    "l.pack() \n",
    "w.pack() \n",
    "# print(\"are we here?\")\n",
    "mainloop() "
   ]
  },
  {
   "cell_type": "code",
   "execution_count": 2,
   "metadata": {},
   "outputs": [],
   "source": [
    "from tkinter import *\n",
    "import PIL\n",
    "from PIL import Image, ImageTk\n",
    "from functools import partial \n",
    "from pathlib import Path"
   ]
  },
  {
   "cell_type": "code",
   "execution_count": 3,
   "metadata": {},
   "outputs": [],
   "source": [
    "def display( event ): \n",
    "\tglobal flag, x_init, y_init, prevX, prevY, myrect, curX, curY, coords\n",
    "\tif flag:\n",
    "\t\tprint(\"inited x, y\")\n",
    "\t\tx_init = w.canvasx(event.x)\n",
    "\t\ty_init = w.canvasy(event.y)\n",
    "\t\tflag = False\n",
    "\tcurX = w.canvasx(event.x)\n",
    "\tcurY = w.canvasy(event.y)\n",
    "\tw.delete(myrect)\n",
    "\tmyrect = w.create_rectangle(x_init, y_init, curX, curY, outline='red')#x, y, w, h\n",
    "\tcoords = [x_init, y_init, curX, curY]\n",
    "\tprevX, prevY = curX, curY\n",
    "\n",
    "\n",
    "# def on_release(event):\n",
    "# \tglobal flag, x_init, y_init, prevX, prevY, myrect\n",
    "\n",
    "def do_crop():\n",
    "\tglobal coords, imgname, dst, root\n",
    "\tprint(coords)\n",
    "\tcrop_im = im.crop(coords)\n",
    "\tout_name = imgname.split('.')[0]+ \"_crop.jpg\"\n",
    "\tout_path = os.path.join(dst, out_name)\n",
    "\tprint(out_path)\n",
    "\tcrop_im.save(out_path)\n",
    "\troot.destroy()\n",
    "\t\n",
    "\n",
    "def next_image():\n",
    "\tglobal count,fname_list, imgname, w, im, tk_im, root, l\n",
    "\timgname = fname_list[count]\n",
    "\timgpath = os.path.join(\"src\", imgname)\n",
    "\tcount = count +1\n",
    "\tim = PIL.Image.open(imgpath)\n",
    "\twidth, height = im.size\n",
    "\troot.geometry(\"{}x{}\".format(width, height)) \n",
    "\tw = Canvas(root, width= width, height = height)\n",
    "\n",
    "\ttk_im = PIL.ImageTk.PhotoImage(im, master = w)\n",
    "\tw.create_image(0,0,anchor=\"nw\",image=tk_im)  \n",
    "\n",
    "\t# w.bind( \"<B1-Motion>\", display ) \n",
    "\t# l = Label( root, text = \"Double Click and Drag to draw.\" ) \n",
    "\t# l.pack() \n",
    "\t# w.pack() "
   ]
  },
  {
   "cell_type": "code",
   "execution_count": 4,
   "metadata": {},
   "outputs": [
    {
     "output_type": "stream",
     "name": "stdout",
     "text": [
      "inited x, y\n",
      "[182.0, 79.0, 377.0, 164.0]\n",
      "crops/00002_crop.jpg\n",
      "[182.0, 79.0, 404.0, 179.0]\n",
      "crops/00004_crop.jpg\n",
      "[182.0, 79.0, 447.0, 158.0]\n",
      "crops/00009_crop.jpg\n",
      "[182.0, 79.0, 349.0, 155.0]\n",
      "crops/00011_crop.jpg\n"
     ]
    },
    {
     "output_type": "error",
     "ename": "KeyboardInterrupt",
     "evalue": "",
     "traceback": [
      "\u001b[0;31m---------------------------------------------------------------------------\u001b[0m",
      "\u001b[0;31mKeyboardInterrupt\u001b[0m                         Traceback (most recent call last)",
      "\u001b[0;32m<ipython-input-4-d9dcbefcd4c4>\u001b[0m in \u001b[0;36m<module>\u001b[0;34m\u001b[0m\n\u001b[1;32m     34\u001b[0m     \u001b[0mw\u001b[0m\u001b[0;34m.\u001b[0m\u001b[0mpack\u001b[0m\u001b[0;34m(\u001b[0m\u001b[0;34m)\u001b[0m\u001b[0;34m\u001b[0m\u001b[0;34m\u001b[0m\u001b[0m\n\u001b[1;32m     35\u001b[0m     \u001b[0;31m# print(\"are we here?\")\u001b[0m\u001b[0;34m\u001b[0m\u001b[0;34m\u001b[0m\u001b[0;34m\u001b[0m\u001b[0m\n\u001b[0;32m---> 36\u001b[0;31m     \u001b[0mmainloop\u001b[0m\u001b[0;34m(\u001b[0m\u001b[0;34m)\u001b[0m\u001b[0;34m\u001b[0m\u001b[0;34m\u001b[0m\u001b[0m\n\u001b[0m",
      "\u001b[0;32m~/miniconda3/envs/gui/lib/python3.9/tkinter/__init__.py\u001b[0m in \u001b[0;36mmainloop\u001b[0;34m(n)\u001b[0m\n\u001b[1;32m    592\u001b[0m \u001b[0;32mdef\u001b[0m \u001b[0mmainloop\u001b[0m\u001b[0;34m(\u001b[0m\u001b[0mn\u001b[0m\u001b[0;34m=\u001b[0m\u001b[0;36m0\u001b[0m\u001b[0;34m)\u001b[0m\u001b[0;34m:\u001b[0m\u001b[0;34m\u001b[0m\u001b[0;34m\u001b[0m\u001b[0m\n\u001b[1;32m    593\u001b[0m     \u001b[0;34m\"\"\"Run the main loop of Tcl.\"\"\"\u001b[0m\u001b[0;34m\u001b[0m\u001b[0;34m\u001b[0m\u001b[0m\n\u001b[0;32m--> 594\u001b[0;31m     \u001b[0m_default_root\u001b[0m\u001b[0;34m.\u001b[0m\u001b[0mtk\u001b[0m\u001b[0;34m.\u001b[0m\u001b[0mmainloop\u001b[0m\u001b[0;34m(\u001b[0m\u001b[0mn\u001b[0m\u001b[0;34m)\u001b[0m\u001b[0;34m\u001b[0m\u001b[0;34m\u001b[0m\u001b[0m\n\u001b[0m\u001b[1;32m    595\u001b[0m \u001b[0;34m\u001b[0m\u001b[0m\n\u001b[1;32m    596\u001b[0m \u001b[0;34m\u001b[0m\u001b[0m\n",
      "\u001b[0;31mKeyboardInterrupt\u001b[0m: "
     ]
    }
   ],
   "source": [
    "#I need to implement the crop function first.\n",
    "fname_list = os.listdir(\"src\")\n",
    "count = 0\n",
    "flag  = True\n",
    "x_init, y_init = None, None\n",
    "prevX, prevY, curX, curY, count = 0, 0, 0, 0, 0\n",
    "coords = []\n",
    "myrect = None\n",
    "dst = \"crops\"\n",
    "\n",
    "for item in fname_list:\n",
    "    root = Tk() \n",
    "    root.title( \"BBox App \") \n",
    "    imgname = item\n",
    "    fpath = os.path.join(\"src\", item)\n",
    "    im = PIL.Image.open(fpath)\n",
    "    im.thumbnail((600, 400), Image.ANTIALIAS)\n",
    "    width, height = im.size\n",
    "\n",
    "    root.geometry(\"{}x{}\".format(width, height)) \n",
    "\n",
    "    w = Canvas(root, width= width, height = height)\n",
    "\n",
    "    crop = Button(root, text='Crop', width=25, command = do_crop)\n",
    "    crop.pack()\n",
    "\n",
    "    tk_im = PIL.ImageTk.PhotoImage(im, master = w)\n",
    "    w.create_image(0,0,anchor=\"nw\",image=tk_im)  \n",
    "\n",
    "    w.bind( \"<B1-Motion>\", display ) \n",
    "    # create label. \n",
    "    l = Label( root, text = \"Double Click and Drag to draw.\" ) \n",
    "    l.pack() \n",
    "    w.pack() \n",
    "    # print(\"are we here?\")\n",
    "    mainloop() "
   ]
  },
  {
   "cell_type": "code",
   "execution_count": null,
   "metadata": {},
   "outputs": [],
   "source": []
  }
 ]
}