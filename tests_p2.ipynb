{
 "metadata": {
  "language_info": {
   "codemirror_mode": {
    "name": "ipython",
    "version": 3
   },
   "file_extension": ".py",
   "mimetype": "text/x-python",
   "name": "python",
   "nbconvert_exporter": "python",
   "pygments_lexer": "ipython3",
   "version": "3.9.1-final"
  },
  "orig_nbformat": 2,
  "kernelspec": {
   "name": "python39164bitguicondaa6955a1e32c54c84a44f36f3b5bb82d8",
   "display_name": "Python 3.9.1 64-bit ('gui': conda)",
   "language": "python"
  }
 },
 "nbformat": 4,
 "nbformat_minor": 2,
 "cells": [
  {
   "cell_type": "code",
   "execution_count": 4,
   "metadata": {},
   "outputs": [],
   "source": [
    "from tkinter import *\n",
    "import PIL\n",
    "from PIL import Image, ImageTk"
   ]
  },
  {
   "cell_type": "code",
   "execution_count": 2,
   "metadata": {},
   "outputs": [],
   "source": [
    "def display( event ): \n",
    "\tglobal flag, x_init, y_init, prevX, prevY, myrect\n",
    "\tif flag:\n",
    "\t\tprint(\"inited x, y\")\n",
    "\t\tx_init = w.canvasx(event.x)\n",
    "\t\ty_init = w.canvasy(event.y)\n",
    "\t\tflag = False\n",
    "\tcurX = w.canvasx(event.x)\n",
    "\tcurY = w.canvasy(event.y)\n",
    "\tw.delete(myrect)\n",
    "\tmyrect = w.create_rectangle(x_init, y_init, curX, curY, outline='red')#x, y, w, h\n",
    "\tprevX, prevY = curX, curY\n",
    "\n",
    "\n",
    "def on_release(event):\n",
    "\tglobal flag, x_init, y_init, prevX, prevY, myrect\n"
   ]
  },
  {
   "cell_type": "code",
   "execution_count": 6,
   "metadata": {},
   "outputs": [],
   "source": [
    "root = Tk() \n",
    "root.title( \"BBox App \") \n",
    "\n",
    "flag  = True\n",
    "x_init, y_init = None, None\n",
    "prevX, prevY = 0, 0\n",
    "myrect = None\n",
    "\n",
    "im = PIL.Image.open(\"00016.jpg\")\n",
    "width, height = im.size\n",
    "\n",
    "root.geometry(\"{}x{}\".format(width, height)) \n",
    "\n",
    "w = Canvas(root, width= width, height = height)\n",
    "\n",
    "next = Button(root, text='Next', width=25)\n",
    "crop = Button(root, text='Crop', width=25)\n",
    "crop.pack()\n",
    "next.pack()\n",
    "\n",
    "tk_im = PIL.ImageTk.PhotoImage(im, master = w)\n",
    "w.create_image(0,0,anchor=\"nw\",image=tk_im)  \n",
    "\n",
    "w.bind( \"<B1-Motion>\", display ) \n",
    "# create label. \n",
    "l = Label( root, text = \"Double Click and Drag to draw.\" ) \n",
    "l.pack() \n",
    "w.pack() \n",
    "mainloop() "
   ]
  },
  {
   "cell_type": "code",
   "execution_count": null,
   "metadata": {},
   "outputs": [],
   "source": []
  }
 ]
}